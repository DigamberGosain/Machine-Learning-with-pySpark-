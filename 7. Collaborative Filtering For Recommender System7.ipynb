{
 "cells": [
  {
   "cell_type": "markdown",
   "id": "b00dc69c",
   "metadata": {},
   "source": [
    "# <span style = 'color:#057296;font-family:helvetica'> Introduction To Recommender System"
   ]
  },
  {
   "cell_type": "code",
   "execution_count": 4,
   "id": "7a6740d1",
   "metadata": {},
   "outputs": [],
   "source": [
    "import findspark"
   ]
  },
  {
   "cell_type": "code",
   "execution_count": 5,
   "id": "cf160d37",
   "metadata": {},
   "outputs": [],
   "source": [
    "findspark.init('/home/chandan/spark-3.2.4-bin-hadoop3.2')"
   ]
  },
  {
   "cell_type": "code",
   "execution_count": 6,
   "id": "08bcee9d",
   "metadata": {},
   "outputs": [],
   "source": [
    "from pyspark.sql import SparkSession"
   ]
  },
  {
   "cell_type": "code",
   "execution_count": 8,
   "id": "5e13be7b",
   "metadata": {},
   "outputs": [],
   "source": [
    "spark = SparkSession.builder.appName('rs').getOrCreate()"
   ]
  },
  {
   "cell_type": "markdown",
   "id": "f3ea9e07",
   "metadata": {},
   "source": [
    "### The two most common types of recommender systems are `Content-Based` and `Collaborative Filtering(CF)`"
   ]
  },
  {
   "cell_type": "markdown",
   "id": "ebd2ccf4",
   "metadata": {},
   "source": [
    "#### Collaborative filtering produces recommendations based on the knowledge of users' attitude to otems that is it uses the \"wisdom of the crowd\" to recomment items"
   ]
  },
  {
   "cell_type": "markdown",
   "id": "00841834",
   "metadata": {},
   "source": [
    "#### Content-based recommender systems foucus on the attributes of the items ans give you recommnedations based on the simmialrity between them."
   ]
  },
  {
   "cell_type": "markdown",
   "id": "d0acc08c",
   "metadata": {},
   "source": [
    "### In general collabarative filtering is more commonly used that the content-based results and is relatively easy to understand even from overall implementation perspective."
   ]
  },
  {
   "cell_type": "markdown",
   "id": "1bf65542",
   "metadata": {},
   "source": [
    "#### The algorithm has the ability to do feature learing on it's own, which means that it can start to learn for iteself what features to use.\n",
    "* These techniques aim to fill in the missing entries of a user-item association matrix.\n",
    "* spark.ml currently supports model-based collaborative filtering, in which users and products are described by a small set of latent factors can be used to predict missing entries.\n",
    "* spark.ml uses the alternating least squares (ALS) algorithm to learn these latent factors.\n",
    "* The data needs to be in a specifc format to work with Spark's ALS Recommendation Algorithm!"
   ]
  },
  {
   "cell_type": "markdown",
   "id": "467e130c",
   "metadata": {},
   "source": [
    "### ALS \n",
    "is basically a Matrix Factorization approach to implement a recommendation lgoirthm you decompose you large user/item matrix into lower dimensional user factors and item factor.\n"
   ]
  },
  {
   "cell_type": "markdown",
   "id": "51067f13",
   "metadata": {},
   "source": [
    "### Example"
   ]
  },
  {
   "cell_type": "code",
   "execution_count": 9,
   "id": "f1649e64",
   "metadata": {},
   "outputs": [],
   "source": [
    "from pyspark.ml.recommendation import ALS"
   ]
  },
  {
   "cell_type": "code",
   "execution_count": 10,
   "id": "a0f2e627",
   "metadata": {},
   "outputs": [],
   "source": [
    "from pyspark.ml.evaluation import RegressionEvaluator"
   ]
  },
  {
   "cell_type": "code",
   "execution_count": 11,
   "id": "de0b8dc1",
   "metadata": {},
   "outputs": [
    {
     "name": "stderr",
     "output_type": "stream",
     "text": [
      "                                                                                \r"
     ]
    }
   ],
   "source": [
    "data = spark.read.csv('movielens_ratings.csv', header=True, inferSchema=True)"
   ]
  },
  {
   "cell_type": "code",
   "execution_count": 12,
   "id": "2b6245e3",
   "metadata": {},
   "outputs": [
    {
     "name": "stdout",
     "output_type": "stream",
     "text": [
      "+-------+------+------+\n",
      "|movieId|rating|userId|\n",
      "+-------+------+------+\n",
      "|      2|   3.0|     0|\n",
      "|      3|   1.0|     0|\n",
      "|      5|   2.0|     0|\n",
      "|      9|   4.0|     0|\n",
      "|     11|   1.0|     0|\n",
      "|     12|   2.0|     0|\n",
      "|     15|   1.0|     0|\n",
      "|     17|   1.0|     0|\n",
      "|     19|   1.0|     0|\n",
      "|     21|   1.0|     0|\n",
      "|     23|   1.0|     0|\n",
      "|     26|   3.0|     0|\n",
      "|     27|   1.0|     0|\n",
      "|     28|   1.0|     0|\n",
      "|     29|   1.0|     0|\n",
      "|     30|   1.0|     0|\n",
      "|     31|   1.0|     0|\n",
      "|     34|   1.0|     0|\n",
      "|     37|   1.0|     0|\n",
      "|     41|   2.0|     0|\n",
      "+-------+------+------+\n",
      "only showing top 20 rows\n",
      "\n"
     ]
    }
   ],
   "source": [
    "data.show()"
   ]
  },
  {
   "cell_type": "code",
   "execution_count": 14,
   "id": "4fcbb2b3",
   "metadata": {},
   "outputs": [
    {
     "name": "stdout",
     "output_type": "stream",
     "text": [
      "+-------+------------------+------------------+------------------+\n",
      "|summary|           movieId|            rating|            userId|\n",
      "+-------+------------------+------------------+------------------+\n",
      "|  count|              1501|              1501|              1501|\n",
      "|   mean| 49.40572951365756|1.7741505662891406|14.383744170552964|\n",
      "| stddev|28.937034065088994| 1.187276166124803| 8.591040424293272|\n",
      "|    min|                 0|               1.0|                 0|\n",
      "|    max|                99|               5.0|                29|\n",
      "+-------+------------------+------------------+------------------+\n",
      "\n"
     ]
    }
   ],
   "source": [
    "data.describe().show()"
   ]
  },
  {
   "cell_type": "code",
   "execution_count": 15,
   "id": "2f2b8385",
   "metadata": {},
   "outputs": [],
   "source": [
    "train , test = data.randomSplit([0.8,0.2])"
   ]
  },
  {
   "cell_type": "code",
   "execution_count": 16,
   "id": "5fa458c9",
   "metadata": {},
   "outputs": [],
   "source": [
    "als = ALS(maxIter= 5, regParam=0.01, userCol='userId', itemCol='movieId',ratingCol='rating')"
   ]
  },
  {
   "cell_type": "code",
   "execution_count": 17,
   "id": "de5121bc",
   "metadata": {},
   "outputs": [
    {
     "name": "stderr",
     "output_type": "stream",
     "text": [
      "23/05/21 15:27:00 WARN InstanceBuilder$NativeBLAS: Failed to load implementation from:dev.ludovic.netlib.blas.JNIBLAS\n",
      "23/05/21 15:27:00 WARN InstanceBuilder$NativeBLAS: Failed to load implementation from:dev.ludovic.netlib.blas.ForeignLinkerBLAS\n",
      "23/05/21 15:27:02 WARN InstanceBuilder$NativeLAPACK: Failed to load implementation from:dev.ludovic.netlib.lapack.JNILAPACK\n",
      "                                                                                \r"
     ]
    }
   ],
   "source": [
    "model = als.fit(train)"
   ]
  },
  {
   "cell_type": "code",
   "execution_count": 18,
   "id": "09796c15",
   "metadata": {},
   "outputs": [],
   "source": [
    "predictions = model.transform(test)"
   ]
  },
  {
   "cell_type": "code",
   "execution_count": 19,
   "id": "dd729451",
   "metadata": {},
   "outputs": [
    {
     "name": "stderr",
     "output_type": "stream",
     "text": [
      "                                                                                \r"
     ]
    },
    {
     "name": "stdout",
     "output_type": "stream",
     "text": [
      "+-------+------+------+-----------+\n",
      "|movieId|rating|userId| prediction|\n",
      "+-------+------+------+-----------+\n",
      "|      1|   1.0|     5|  3.2659056|\n",
      "|      6|   1.0|     4|  1.5368513|\n",
      "|      6|   1.0|    14|   2.186632|\n",
      "|      6|   1.0|    18|  0.4537525|\n",
      "|      3|   2.0|     8|  1.5729034|\n",
      "|      3|   1.0|    13|  0.9564871|\n",
      "|      3|   1.0|    26|  0.7006431|\n",
      "|      3|   1.0|    28|-0.26091012|\n",
      "|      5|   1.0|    13|  1.6824346|\n",
      "|      5|   2.0|    18|  2.4998088|\n",
      "|      5|   1.0|    29|-0.33929783|\n",
      "|      4|   3.0|     2|   3.816215|\n",
      "|      4|   2.0|     8|  2.6008193|\n",
      "|      4|   3.0|    10| 0.27648014|\n",
      "|      4|   1.0|    12| 0.65203786|\n",
      "|      2|   3.0|     6|  2.1725338|\n",
      "|      2|   4.0|     8| -1.4584627|\n",
      "|      2|   1.0|    23|  2.3096414|\n",
      "|      0|   1.0|    19| -0.8948506|\n",
      "|      0|   1.0|    22|  2.2727349|\n",
      "+-------+------+------+-----------+\n",
      "only showing top 20 rows\n",
      "\n"
     ]
    }
   ],
   "source": [
    "predictions.show()"
   ]
  },
  {
   "cell_type": "markdown",
   "id": "b3060b90",
   "metadata": {},
   "source": [
    "### Evaluation"
   ]
  },
  {
   "cell_type": "code",
   "execution_count": 22,
   "id": "4aaae0f4",
   "metadata": {},
   "outputs": [],
   "source": [
    "evaluator = RegressionEvaluator(metricName='rmse', labelCol='rating', predictionCol='prediction')"
   ]
  },
  {
   "cell_type": "code",
   "execution_count": 23,
   "id": "a6a07c13",
   "metadata": {},
   "outputs": [
    {
     "name": "stderr",
     "output_type": "stream",
     "text": [
      "                                                                                \r"
     ]
    }
   ],
   "source": [
    "rmse = evaluator.evaluate(predictions)"
   ]
  },
  {
   "cell_type": "code",
   "execution_count": 24,
   "id": "a6322b77",
   "metadata": {},
   "outputs": [
    {
     "name": "stdout",
     "output_type": "stream",
     "text": [
      "RMSE\n",
      "1.8164426543965047\n"
     ]
    }
   ],
   "source": [
    "print(\"RMSE\")\n",
    "print(rmse)"
   ]
  },
  {
   "cell_type": "markdown",
   "id": "9cc12524",
   "metadata": {},
   "source": [
    "#### It's not a good RMSE square"
   ]
  },
  {
   "cell_type": "code",
   "execution_count": 26,
   "id": "905c29b0",
   "metadata": {},
   "outputs": [],
   "source": [
    "single_user = test.filter(test['userId']==11).select(['movieId','userId'])"
   ]
  },
  {
   "cell_type": "code",
   "execution_count": 28,
   "id": "6148d21c",
   "metadata": {},
   "outputs": [
    {
     "name": "stdout",
     "output_type": "stream",
     "text": [
      "+-------+------+\n",
      "|movieId|userId|\n",
      "+-------+------+\n",
      "|     23|    11|\n",
      "|     25|    11|\n",
      "|     27|    11|\n",
      "|     35|    11|\n",
      "|     43|    11|\n",
      "|     45|    11|\n",
      "|     50|    11|\n",
      "|     71|    11|\n",
      "|     77|    11|\n",
      "|     79|    11|\n",
      "|     80|    11|\n",
      "|     88|    11|\n",
      "|     89|    11|\n",
      "+-------+------+\n",
      "\n"
     ]
    }
   ],
   "source": [
    "single_user.show()"
   ]
  },
  {
   "cell_type": "code",
   "execution_count": 29,
   "id": "8bbf1034",
   "metadata": {},
   "outputs": [],
   "source": [
    "recommendations = model.transform(single_user)"
   ]
  },
  {
   "cell_type": "code",
   "execution_count": 30,
   "id": "d8c3358c",
   "metadata": {},
   "outputs": [
    {
     "name": "stderr",
     "output_type": "stream",
     "text": [
      "                                                                                \r"
     ]
    },
    {
     "name": "stdout",
     "output_type": "stream",
     "text": [
      "+-------+------+-----------+\n",
      "|movieId|userId| prediction|\n",
      "+-------+------+-----------+\n",
      "|     27|    11|  5.0584335|\n",
      "|     23|    11|  2.2466388|\n",
      "|     25|    11|   1.970675|\n",
      "|     77|    11|  1.3159499|\n",
      "|     45|    11| 0.99649704|\n",
      "|     80|    11|  0.7360893|\n",
      "|     89|    11|  0.6997621|\n",
      "|     79|    11|  0.6195072|\n",
      "|     50|    11|-0.11819631|\n",
      "|     71|    11| -0.8098814|\n",
      "|     88|    11| -1.1268233|\n",
      "|     35|    11| -2.1203852|\n",
      "|     43|    11| -3.2615855|\n",
      "+-------+------+-----------+\n",
      "\n"
     ]
    }
   ],
   "source": [
    "recommendations.orderBy('prediction', ascending= False).show()"
   ]
  },
  {
   "cell_type": "markdown",
   "id": "6857179e",
   "metadata": {},
   "source": [
    "### Here we can make out user 11 will like movie Id 27 most and 43 least"
   ]
  },
  {
   "cell_type": "code",
   "execution_count": null,
   "id": "b0568eb7",
   "metadata": {},
   "outputs": [],
   "source": []
  }
 ],
 "metadata": {
  "kernelspec": {
   "display_name": "Python 3 (ipykernel)",
   "language": "python",
   "name": "python3"
  },
  "language_info": {
   "codemirror_mode": {
    "name": "ipython",
    "version": 3
   },
   "file_extension": ".py",
   "mimetype": "text/x-python",
   "name": "python",
   "nbconvert_exporter": "python",
   "pygments_lexer": "ipython3",
   "version": "3.8.10"
  }
 },
 "nbformat": 4,
 "nbformat_minor": 5
}
