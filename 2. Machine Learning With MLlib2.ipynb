{
 "cells": [
  {
   "cell_type": "markdown",
   "id": "49661254",
   "metadata": {},
   "source": [
    "# <span style ='color:purple;font-family:Helvetica'>MLlib"
   ]
  },
  {
   "cell_type": "markdown",
   "id": "115946e4",
   "metadata": {},
   "source": [
    "#### Machine Learning is a method of data analysis that automates model building"
   ]
  },
  {
   "cell_type": "markdown",
   "id": "45f1fb3e",
   "metadata": {},
   "source": [
    "#### Using algorithms that iteratively learn from data, machine learning allows computers to find hidden insights without being explicitly programmed where to look"
   ]
  },
  {
   "cell_type": "markdown",
   "id": "fc89eb7d",
   "metadata": {},
   "source": [
    "## Steps in Machine Leanring"
   ]
  },
  {
   "cell_type": "markdown",
   "id": "0bc47997",
   "metadata": {},
   "source": [
    "* Data Acquisition\n",
    "* Data Cleaning\n",
    "* Model Training & Building\n",
    "* Model Testing\n",
    "* Model Deployment"
   ]
  },
  {
   "cell_type": "markdown",
   "id": "0a4e041a",
   "metadata": {},
   "source": [
    "###  `Spark's MLlib` is maily designed for Supervised and Unsubervised Learning Task, with most of it's algo's falling under those tow categories"
   ]
  },
  {
   "cell_type": "markdown",
   "id": "5daea82f",
   "metadata": {},
   "source": [
    "#### The MLlib ustilizes the Spark 2.0 DataFrame Syntax"
   ]
  },
  {
   "cell_type": "markdown",
   "id": "66aa0a9f",
   "metadata": {},
   "source": [
    "### One of the main issue with MLlib is that you need to format your data in way that eventually it just has one or Two columns\n",
    "* For Supervised learning Features column and Label column\n",
    "* For Unsupervised Learing Feature column"
   ]
  },
  {
   "cell_type": "markdown",
   "id": "b60ba7a0",
   "metadata": {},
   "source": [
    "#### This basically means that if we have tons of columns eventually we have to condense all the features in the data set to one feature, where each row or entry is an array consisting all columns "
   ]
  },
  {
   "cell_type": "markdown",
   "id": "f76dd996",
   "metadata": {},
   "source": [
    "The Documentation of Spark MLlib is avaiable on spark.apache.org"
   ]
  },
  {
   "cell_type": "code",
   "execution_count": null,
   "id": "f614c937",
   "metadata": {},
   "outputs": [],
   "source": []
  }
 ],
 "metadata": {
  "kernelspec": {
   "display_name": "Python 3 (ipykernel)",
   "language": "python",
   "name": "python3"
  },
  "language_info": {
   "codemirror_mode": {
    "name": "ipython",
    "version": 3
   },
   "file_extension": ".py",
   "mimetype": "text/x-python",
   "name": "python",
   "nbconvert_exporter": "python",
   "pygments_lexer": "ipython3",
   "version": "3.8.10"
  }
 },
 "nbformat": 4,
 "nbformat_minor": 5
}
