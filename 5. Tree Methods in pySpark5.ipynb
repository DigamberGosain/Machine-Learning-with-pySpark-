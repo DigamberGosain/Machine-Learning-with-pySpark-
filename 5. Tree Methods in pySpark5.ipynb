{
 "cells": [
  {
   "cell_type": "markdown",
   "id": "96888f87",
   "metadata": {},
   "source": [
    "# <span style = 'color:blue;font-family:helvetica'> Tree Methods in pySpark"
   ]
  },
  {
   "cell_type": "markdown",
   "id": "043f0a8f",
   "metadata": {},
   "source": [
    "### Tree Methods includes\n",
    "* Decision Trees\n",
    "* Random forests\n",
    "* Greadient boosted trees"
   ]
  },
  {
   "cell_type": "markdown",
   "id": "311edd20",
   "metadata": {},
   "source": [
    "### Tree Methods Documentation Examples"
   ]
  },
  {
   "cell_type": "code",
   "execution_count": 1,
   "id": "7faea1be",
   "metadata": {},
   "outputs": [],
   "source": [
    "import findspark"
   ]
  },
  {
   "cell_type": "code",
   "execution_count": 2,
   "id": "468f3a6d",
   "metadata": {},
   "outputs": [],
   "source": [
    "findspark.init('/home/chandan/spark-3.2.4-bin-hadoop3.2')"
   ]
  },
  {
   "cell_type": "code",
   "execution_count": 3,
   "id": "60534317",
   "metadata": {},
   "outputs": [],
   "source": [
    "from pyspark.ml import Pipeline"
   ]
  },
  {
   "cell_type": "code",
   "execution_count": 4,
   "id": "22e2711a",
   "metadata": {},
   "outputs": [],
   "source": [
    "from pyspark.ml.classification import RandomForestClassifier, GBTClassifier, DecisionTreeClassifier"
   ]
  },
  {
   "cell_type": "code",
   "execution_count": 5,
   "id": "7f6ce805",
   "metadata": {},
   "outputs": [],
   "source": [
    "import pyspark"
   ]
  },
  {
   "cell_type": "code",
   "execution_count": 7,
   "id": "b3176b82",
   "metadata": {},
   "outputs": [],
   "source": [
    "from pyspark.sql import SparkSession"
   ]
  },
  {
   "cell_type": "code",
   "execution_count": 8,
   "id": "20259969",
   "metadata": {},
   "outputs": [
    {
     "name": "stderr",
     "output_type": "stream",
     "text": [
      "23/05/20 19:21:31 WARN Utils: Your hostname, chandan-VivoBook-ASUSLaptop-X515MA-X515MA resolves to a loopback address: 127.0.1.1; using 192.168.0.169 instead (on interface wlo1)\n",
      "23/05/20 19:21:31 WARN Utils: Set SPARK_LOCAL_IP if you need to bind to another address\n",
      "WARNING: An illegal reflective access operation has occurred\n",
      "WARNING: Illegal reflective access by org.apache.spark.unsafe.Platform (file:/home/chandan/spark-3.2.4-bin-hadoop3.2/jars/spark-unsafe_2.12-3.2.4.jar) to constructor java.nio.DirectByteBuffer(long,int)\n",
      "WARNING: Please consider reporting this to the maintainers of org.apache.spark.unsafe.Platform\n",
      "WARNING: Use --illegal-access=warn to enable warnings of further illegal reflective access operations\n",
      "WARNING: All illegal access operations will be denied in a future release\n",
      "Using Spark's default log4j profile: org/apache/spark/log4j-defaults.properties\n",
      "Setting default log level to \"WARN\".\n",
      "To adjust logging level use sc.setLogLevel(newLevel). For SparkR, use setLogLevel(newLevel).\n",
      "23/05/20 19:21:34 WARN NativeCodeLoader: Unable to load native-hadoop library for your platform... using builtin-java classes where applicable\n"
     ]
    }
   ],
   "source": [
    "spark = SparkSession.builder.appName(\"dt\").getOrCreate()"
   ]
  },
  {
   "cell_type": "code",
   "execution_count": 9,
   "id": "14d09d30",
   "metadata": {},
   "outputs": [
    {
     "name": "stderr",
     "output_type": "stream",
     "text": [
      "23/05/20 19:22:06 WARN LibSVMFileFormat: 'numFeatures' option not specified, determining the number of features by going though the input. If you know the number in advance, please specify it via 'numFeatures' option to avoid the extra scan.\n",
      "                                                                                \r"
     ]
    }
   ],
   "source": [
    "data = spark.read.format('libsvm').load('sample_libsvm_data.txt')"
   ]
  },
  {
   "cell_type": "code",
   "execution_count": 10,
   "id": "6d10151c",
   "metadata": {},
   "outputs": [
    {
     "name": "stdout",
     "output_type": "stream",
     "text": [
      "+-----+--------------------+\n",
      "|label|            features|\n",
      "+-----+--------------------+\n",
      "|  0.0|(692,[127,128,129...|\n",
      "|  1.0|(692,[158,159,160...|\n",
      "|  1.0|(692,[124,125,126...|\n",
      "|  1.0|(692,[152,153,154...|\n",
      "|  1.0|(692,[151,152,153...|\n",
      "|  0.0|(692,[129,130,131...|\n",
      "|  1.0|(692,[158,159,160...|\n",
      "|  1.0|(692,[99,100,101,...|\n",
      "|  0.0|(692,[154,155,156...|\n",
      "|  0.0|(692,[127,128,129...|\n",
      "|  1.0|(692,[154,155,156...|\n",
      "|  0.0|(692,[153,154,155...|\n",
      "|  0.0|(692,[151,152,153...|\n",
      "|  1.0|(692,[129,130,131...|\n",
      "|  0.0|(692,[154,155,156...|\n",
      "|  1.0|(692,[150,151,152...|\n",
      "|  0.0|(692,[124,125,126...|\n",
      "|  0.0|(692,[152,153,154...|\n",
      "|  1.0|(692,[97,98,99,12...|\n",
      "|  1.0|(692,[124,125,126...|\n",
      "+-----+--------------------+\n",
      "only showing top 20 rows\n",
      "\n"
     ]
    }
   ],
   "source": [
    "data.show()"
   ]
  },
  {
   "cell_type": "code",
   "execution_count": 11,
   "id": "cd652655",
   "metadata": {},
   "outputs": [],
   "source": [
    "train_data , test_data = data.randomSplit([0.7,0.3])"
   ]
  },
  {
   "cell_type": "code",
   "execution_count": 13,
   "id": "c4535924",
   "metadata": {},
   "outputs": [],
   "source": [
    "dtc = DecisionTreeClassifier()\n",
    "rfc = RandomForestClassifier(numTrees=100)\n",
    "gbt = GBTClassifier()"
   ]
  },
  {
   "cell_type": "code",
   "execution_count": 14,
   "id": "aff9c6a1",
   "metadata": {},
   "outputs": [
    {
     "name": "stderr",
     "output_type": "stream",
     "text": [
      "                                                                                \r"
     ]
    }
   ],
   "source": [
    "dtc_model = dtc.fit(train_data)\n",
    "rfc_model = rfc.fit(train_data)\n",
    "gbt_model = gbt.fit(train_data)"
   ]
  },
  {
   "cell_type": "code",
   "execution_count": 15,
   "id": "ef3579a7",
   "metadata": {},
   "outputs": [],
   "source": [
    "dtc_preds = dtc_model.transform(test_data)\n",
    "rfc_preds = rfc_model.transform(test_data)\n",
    "gbt_preds = gbt_model.transform(test_data)"
   ]
  },
  {
   "cell_type": "code",
   "execution_count": 16,
   "id": "4069ffa2",
   "metadata": {},
   "outputs": [
    {
     "name": "stdout",
     "output_type": "stream",
     "text": [
      "+-----+--------------------+-------------+-----------+----------+\n",
      "|label|            features|rawPrediction|probability|prediction|\n",
      "+-----+--------------------+-------------+-----------+----------+\n",
      "|  0.0|(692,[100,101,102...|   [34.0,0.0]|  [1.0,0.0]|       0.0|\n",
      "|  0.0|(692,[123,124,125...|   [34.0,0.0]|  [1.0,0.0]|       0.0|\n",
      "|  0.0|(692,[124,125,126...|   [34.0,0.0]|  [1.0,0.0]|       0.0|\n",
      "|  0.0|(692,[127,128,129...|   [34.0,0.0]|  [1.0,0.0]|       0.0|\n",
      "|  0.0|(692,[127,128,129...|   [34.0,0.0]|  [1.0,0.0]|       0.0|\n",
      "|  0.0|(692,[151,152,153...|   [34.0,0.0]|  [1.0,0.0]|       0.0|\n",
      "|  0.0|(692,[152,153,154...|   [34.0,0.0]|  [1.0,0.0]|       0.0|\n",
      "|  0.0|(692,[154,155,156...|   [34.0,0.0]|  [1.0,0.0]|       0.0|\n",
      "|  0.0|(692,[155,156,180...|   [34.0,0.0]|  [1.0,0.0]|       0.0|\n",
      "|  1.0|(692,[97,98,99,12...|   [0.0,39.0]|  [0.0,1.0]|       1.0|\n",
      "|  1.0|(692,[123,124,125...|   [0.0,39.0]|  [0.0,1.0]|       1.0|\n",
      "|  1.0|(692,[125,126,127...|   [0.0,39.0]|  [0.0,1.0]|       1.0|\n",
      "|  1.0|(692,[126,127,128...|   [0.0,39.0]|  [0.0,1.0]|       1.0|\n",
      "|  1.0|(692,[127,128,129...|   [0.0,39.0]|  [0.0,1.0]|       1.0|\n",
      "|  1.0|(692,[127,128,129...|   [0.0,39.0]|  [0.0,1.0]|       1.0|\n",
      "|  1.0|(692,[127,128,155...|   [0.0,39.0]|  [0.0,1.0]|       1.0|\n",
      "|  1.0|(692,[129,130,131...|   [0.0,39.0]|  [0.0,1.0]|       1.0|\n",
      "|  1.0|(692,[129,130,131...|   [0.0,39.0]|  [0.0,1.0]|       1.0|\n",
      "|  1.0|(692,[130,131,132...|   [0.0,39.0]|  [0.0,1.0]|       1.0|\n",
      "|  1.0|(692,[151,152,153...|   [0.0,39.0]|  [0.0,1.0]|       1.0|\n",
      "+-----+--------------------+-------------+-----------+----------+\n",
      "only showing top 20 rows\n",
      "\n"
     ]
    }
   ],
   "source": [
    "dtc_preds.show()"
   ]
  },
  {
   "cell_type": "code",
   "execution_count": 17,
   "id": "03b8c129",
   "metadata": {},
   "outputs": [
    {
     "name": "stdout",
     "output_type": "stream",
     "text": [
      "+-----+--------------------+--------------------+--------------------+----------+\n",
      "|label|            features|       rawPrediction|         probability|prediction|\n",
      "+-----+--------------------+--------------------+--------------------+----------+\n",
      "|  0.0|(692,[100,101,102...|[1.54350200272498...|[0.95635347857270...|       0.0|\n",
      "|  0.0|(692,[123,124,125...|[1.54350200272498...|[0.95635347857270...|       0.0|\n",
      "|  0.0|(692,[124,125,126...|[1.54350200272498...|[0.95635347857270...|       0.0|\n",
      "|  0.0|(692,[127,128,129...|[1.54350200272498...|[0.95635347857270...|       0.0|\n",
      "|  0.0|(692,[127,128,129...|[1.54350200272498...|[0.95635347857270...|       0.0|\n",
      "|  0.0|(692,[151,152,153...|[1.13936077863877...|[0.90709936843764...|       0.0|\n",
      "|  0.0|(692,[152,153,154...|[1.54350200272498...|[0.95635347857270...|       0.0|\n",
      "|  0.0|(692,[154,155,156...|[1.54350200272498...|[0.95635347857270...|       0.0|\n",
      "|  0.0|(692,[155,156,180...|[1.54350200272498...|[0.95635347857270...|       0.0|\n",
      "|  1.0|(692,[97,98,99,12...|[-1.5435020027249...|[0.04364652142729...|       1.0|\n",
      "|  1.0|(692,[123,124,125...|[-1.5435020027249...|[0.04364652142729...|       1.0|\n",
      "|  1.0|(692,[125,126,127...|[-1.5435020027249...|[0.04364652142729...|       1.0|\n",
      "|  1.0|(692,[126,127,128...|[-1.5435020027249...|[0.04364652142729...|       1.0|\n",
      "|  1.0|(692,[127,128,129...|[-1.5435020027249...|[0.04364652142729...|       1.0|\n",
      "|  1.0|(692,[127,128,129...|[-1.5435020027249...|[0.04364652142729...|       1.0|\n",
      "|  1.0|(692,[127,128,155...|[-1.5435020027249...|[0.04364652142729...|       1.0|\n",
      "|  1.0|(692,[129,130,131...|[-1.5435020027249...|[0.04364652142729...|       1.0|\n",
      "|  1.0|(692,[129,130,131...|[-1.5435020027249...|[0.04364652142729...|       1.0|\n",
      "|  1.0|(692,[130,131,132...|[-1.5435020027249...|[0.04364652142729...|       1.0|\n",
      "|  1.0|(692,[151,152,153...|[-1.5435020027249...|[0.04364652142729...|       1.0|\n",
      "+-----+--------------------+--------------------+--------------------+----------+\n",
      "only showing top 20 rows\n",
      "\n"
     ]
    },
    {
     "name": "stderr",
     "output_type": "stream",
     "text": [
      "23/05/20 19:30:48 WARN InstanceBuilder$NativeBLAS: Failed to load implementation from:dev.ludovic.netlib.blas.JNIBLAS\n",
      "23/05/20 19:30:48 WARN InstanceBuilder$NativeBLAS: Failed to load implementation from:dev.ludovic.netlib.blas.ForeignLinkerBLAS\n"
     ]
    }
   ],
   "source": [
    "gbt_preds.show()"
   ]
  },
  {
   "cell_type": "markdown",
   "id": "61ebd8a2",
   "metadata": {},
   "source": [
    "#### Using evaluation - Even though the current exmaple is a binary classification  but we can still use `MulticlassClassificationEvaluator` and get the direct metrics like precision, recall etc."
   ]
  },
  {
   "cell_type": "code",
   "execution_count": 18,
   "id": "e482b80a",
   "metadata": {},
   "outputs": [],
   "source": [
    "from pyspark.ml.evaluation import MulticlassClassificationEvaluator"
   ]
  },
  {
   "cell_type": "code",
   "execution_count": 19,
   "id": "9b882100",
   "metadata": {},
   "outputs": [],
   "source": [
    "acc_eval = MulticlassClassificationEvaluator(metricName='accuracy')"
   ]
  },
  {
   "cell_type": "code",
   "execution_count": 23,
   "id": "deca329f",
   "metadata": {},
   "outputs": [
    {
     "name": "stdout",
     "output_type": "stream",
     "text": [
      "DTC Accuracy:\n"
     ]
    },
    {
     "data": {
      "text/plain": [
       "1.0"
      ]
     },
     "execution_count": 23,
     "metadata": {},
     "output_type": "execute_result"
    }
   ],
   "source": [
    "print('DTC Accuracy:')\n",
    "acc_eval.evaluate(dtc_preds)"
   ]
  },
  {
   "cell_type": "code",
   "execution_count": 24,
   "id": "cb53b3f0",
   "metadata": {},
   "outputs": [
    {
     "name": "stdout",
     "output_type": "stream",
     "text": [
      "RFC Accuracy:\n"
     ]
    },
    {
     "data": {
      "text/plain": [
       "1.0"
      ]
     },
     "execution_count": 24,
     "metadata": {},
     "output_type": "execute_result"
    }
   ],
   "source": [
    "print('RFC Accuracy:')\n",
    "acc_eval.evaluate(rfc_preds)"
   ]
  },
  {
   "cell_type": "code",
   "execution_count": 25,
   "id": "9e7e3e53",
   "metadata": {},
   "outputs": [
    {
     "name": "stdout",
     "output_type": "stream",
     "text": [
      "GBT Accuracy:\n"
     ]
    },
    {
     "data": {
      "text/plain": [
       "1.0"
      ]
     },
     "execution_count": 25,
     "metadata": {},
     "output_type": "execute_result"
    }
   ],
   "source": [
    "print('GBT Accuracy:')\n",
    "acc_eval.evaluate(gbt_preds)"
   ]
  },
  {
   "cell_type": "markdown",
   "id": "261c6216",
   "metadata": {},
   "source": [
    "The above example was based on the sample data form documentaiton, that the reason we are getting perfect result.\n",
    "\n",
    "### There also important thing which is `feature importance` which can be helpful in feature selection"
   ]
  },
  {
   "cell_type": "code",
   "execution_count": 26,
   "id": "541b49c1",
   "metadata": {},
   "outputs": [
    {
     "data": {
      "text/plain": [
       "SparseVector(692, {182: 0.0002, 213: 0.0005, 217: 0.001, 235: 0.0121, 238: 0.0003, 239: 0.0009, 243: 0.0055, 244: 0.0085, 245: 0.0217, 262: 0.0279, 263: 0.0062, 268: 0.0007, 270: 0.0006, 272: 0.0062, 273: 0.0107, 290: 0.0046, 293: 0.0005, 299: 0.0005, 300: 0.0104, 301: 0.0442, 303: 0.0006, 317: 0.0125, 319: 0.0011, 320: 0.0002, 322: 0.0005, 326: 0.0011, 328: 0.0083, 329: 0.0006, 330: 0.0076, 331: 0.0005, 347: 0.0004, 349: 0.001, 350: 0.0082, 351: 0.0452, 353: 0.0005, 356: 0.0068, 357: 0.0069, 359: 0.0047, 370: 0.001, 372: 0.0006, 373: 0.0005, 374: 0.0005, 375: 0.0015, 377: 0.0142, 378: 0.0303, 379: 0.0109, 384: 0.0088, 385: 0.0092, 387: 0.0017, 388: 0.0022, 405: 0.0255, 406: 0.0151, 407: 0.0134, 408: 0.0032, 409: 0.0011, 410: 0.0011, 412: 0.0094, 414: 0.0015, 416: 0.0014, 426: 0.007, 427: 0.0063, 428: 0.0072, 429: 0.0099, 432: 0.0015, 433: 0.0206, 434: 0.0231, 435: 0.0173, 438: 0.0006, 440: 0.0184, 442: 0.0073, 453: 0.0018, 455: 0.0301, 456: 0.0068, 457: 0.001, 461: 0.0459, 462: 0.0308, 463: 0.0091, 464: 0.001, 467: 0.0003, 468: 0.0087, 469: 0.001, 471: 0.0004, 482: 0.0036, 483: 0.0326, 484: 0.0158, 489: 0.0221, 490: 0.0536, 494: 0.0006, 495: 0.0024, 496: 0.0172, 498: 0.0003, 509: 0.0023, 511: 0.0537, 512: 0.0199, 513: 0.005, 515: 0.0005, 517: 0.0197, 518: 0.0097, 523: 0.0, 524: 0.0006, 525: 0.0014, 539: 0.0035, 540: 0.017, 543: 0.0009, 544: 0.0005, 548: 0.0009, 552: 0.002, 553: 0.0008, 554: 0.0043, 568: 0.0183, 573: 0.0005, 582: 0.0042, 595: 0.0009, 597: 0.0009, 601: 0.0008, 609: 0.0005, 620: 0.0006, 623: 0.0006, 626: 0.0007, 654: 0.0001, 655: 0.0002, 664: 0.0011})"
      ]
     },
     "execution_count": 26,
     "metadata": {},
     "output_type": "execute_result"
    }
   ],
   "source": [
    "rfc_model.featureImportances"
   ]
  },
  {
   "cell_type": "markdown",
   "id": "b9b34435",
   "metadata": {},
   "source": [
    "# Exercise Example"
   ]
  },
  {
   "cell_type": "code",
   "execution_count": 27,
   "id": "859587af",
   "metadata": {},
   "outputs": [],
   "source": [
    "data = spark.read.csv('College.csv', inferSchema= True, header= True)"
   ]
  },
  {
   "cell_type": "code",
   "execution_count": 28,
   "id": "b4ec043e",
   "metadata": {},
   "outputs": [
    {
     "name": "stdout",
     "output_type": "stream",
     "text": [
      "root\n",
      " |-- School: string (nullable = true)\n",
      " |-- Private: string (nullable = true)\n",
      " |-- Apps: integer (nullable = true)\n",
      " |-- Accept: integer (nullable = true)\n",
      " |-- Enroll: integer (nullable = true)\n",
      " |-- Top10perc: integer (nullable = true)\n",
      " |-- Top25perc: integer (nullable = true)\n",
      " |-- F_Undergrad: integer (nullable = true)\n",
      " |-- P_Undergrad: integer (nullable = true)\n",
      " |-- Outstate: integer (nullable = true)\n",
      " |-- Room_Board: integer (nullable = true)\n",
      " |-- Books: integer (nullable = true)\n",
      " |-- Personal: integer (nullable = true)\n",
      " |-- PhD: integer (nullable = true)\n",
      " |-- Terminal: integer (nullable = true)\n",
      " |-- S_F_Ratio: double (nullable = true)\n",
      " |-- perc_alumni: integer (nullable = true)\n",
      " |-- Expend: integer (nullable = true)\n",
      " |-- Grad_Rate: integer (nullable = true)\n",
      "\n"
     ]
    }
   ],
   "source": [
    "data.printSchema()"
   ]
  },
  {
   "cell_type": "code",
   "execution_count": 29,
   "id": "26e7a91d",
   "metadata": {},
   "outputs": [
    {
     "data": {
      "text/plain": [
       "[Row(School='Abilene Christian University', Private='Yes', Apps=1660, Accept=1232, Enroll=721, Top10perc=23, Top25perc=52, F_Undergrad=2885, P_Undergrad=537, Outstate=7440, Room_Board=3300, Books=450, Personal=2200, PhD=70, Terminal=78, S_F_Ratio=18.1, perc_alumni=12, Expend=7041, Grad_Rate=60)]"
      ]
     },
     "execution_count": 29,
     "metadata": {},
     "output_type": "execute_result"
    }
   ],
   "source": [
    "data.head(1)"
   ]
  },
  {
   "cell_type": "code",
   "execution_count": 30,
   "id": "a733aa6b",
   "metadata": {},
   "outputs": [],
   "source": [
    "from pyspark.ml.feature import VectorAssembler"
   ]
  },
  {
   "cell_type": "code",
   "execution_count": 31,
   "id": "d0088d76",
   "metadata": {},
   "outputs": [
    {
     "data": {
      "text/plain": [
       "['School',\n",
       " 'Private',\n",
       " 'Apps',\n",
       " 'Accept',\n",
       " 'Enroll',\n",
       " 'Top10perc',\n",
       " 'Top25perc',\n",
       " 'F_Undergrad',\n",
       " 'P_Undergrad',\n",
       " 'Outstate',\n",
       " 'Room_Board',\n",
       " 'Books',\n",
       " 'Personal',\n",
       " 'PhD',\n",
       " 'Terminal',\n",
       " 'S_F_Ratio',\n",
       " 'perc_alumni',\n",
       " 'Expend',\n",
       " 'Grad_Rate']"
      ]
     },
     "execution_count": 31,
     "metadata": {},
     "output_type": "execute_result"
    }
   ],
   "source": [
    "data.columns"
   ]
  },
  {
   "cell_type": "code",
   "execution_count": 32,
   "id": "0847705e",
   "metadata": {},
   "outputs": [],
   "source": [
    "assembler = VectorAssembler(inputCols=[\n",
    "    'Apps',\n",
    " 'Accept',\n",
    " 'Enroll',\n",
    " 'Top10perc',\n",
    " 'Top25perc',\n",
    " 'F_Undergrad',\n",
    " 'P_Undergrad',\n",
    " 'Outstate',\n",
    " 'Room_Board',\n",
    " 'Books',\n",
    " 'Personal',\n",
    " 'PhD',\n",
    " 'Terminal',\n",
    " 'S_F_Ratio',\n",
    " 'perc_alumni',\n",
    " 'Expend',\n",
    " 'Grad_Rate'\n",
    "], outputCol='features')"
   ]
  },
  {
   "cell_type": "code",
   "execution_count": 33,
   "id": "2143af47",
   "metadata": {},
   "outputs": [],
   "source": [
    "output = assembler.transform(data)"
   ]
  },
  {
   "cell_type": "code",
   "execution_count": 34,
   "id": "d3c3d8a0",
   "metadata": {},
   "outputs": [],
   "source": [
    "from pyspark.ml.feature import StringIndexer"
   ]
  },
  {
   "cell_type": "code",
   "execution_count": 35,
   "id": "08ef4b17",
   "metadata": {},
   "outputs": [],
   "source": [
    "indexer = StringIndexer(inputCol='Private', outputCol='PrivateIndex')"
   ]
  },
  {
   "cell_type": "code",
   "execution_count": 36,
   "id": "e922b6a7",
   "metadata": {},
   "outputs": [
    {
     "name": "stderr",
     "output_type": "stream",
     "text": [
      "                                                                                \r"
     ]
    }
   ],
   "source": [
    "output_fixed = indexer.fit(output).transform(output)"
   ]
  },
  {
   "cell_type": "code",
   "execution_count": 37,
   "id": "0bb76b63",
   "metadata": {},
   "outputs": [
    {
     "name": "stdout",
     "output_type": "stream",
     "text": [
      "root\n",
      " |-- School: string (nullable = true)\n",
      " |-- Private: string (nullable = true)\n",
      " |-- Apps: integer (nullable = true)\n",
      " |-- Accept: integer (nullable = true)\n",
      " |-- Enroll: integer (nullable = true)\n",
      " |-- Top10perc: integer (nullable = true)\n",
      " |-- Top25perc: integer (nullable = true)\n",
      " |-- F_Undergrad: integer (nullable = true)\n",
      " |-- P_Undergrad: integer (nullable = true)\n",
      " |-- Outstate: integer (nullable = true)\n",
      " |-- Room_Board: integer (nullable = true)\n",
      " |-- Books: integer (nullable = true)\n",
      " |-- Personal: integer (nullable = true)\n",
      " |-- PhD: integer (nullable = true)\n",
      " |-- Terminal: integer (nullable = true)\n",
      " |-- S_F_Ratio: double (nullable = true)\n",
      " |-- perc_alumni: integer (nullable = true)\n",
      " |-- Expend: integer (nullable = true)\n",
      " |-- Grad_Rate: integer (nullable = true)\n",
      " |-- features: vector (nullable = true)\n",
      " |-- PrivateIndex: double (nullable = false)\n",
      "\n"
     ]
    }
   ],
   "source": [
    "output_fixed.printSchema()"
   ]
  },
  {
   "cell_type": "code",
   "execution_count": 38,
   "id": "3442d11c",
   "metadata": {},
   "outputs": [],
   "source": [
    "final_data = output_fixed.select('features','PrivateIndex')"
   ]
  },
  {
   "cell_type": "code",
   "execution_count": 39,
   "id": "6b47b1d9",
   "metadata": {},
   "outputs": [],
   "source": [
    "train_data, test_data = final_data.randomSplit([0.7,0.3])"
   ]
  },
  {
   "cell_type": "code",
   "execution_count": 40,
   "id": "0f94d775",
   "metadata": {},
   "outputs": [],
   "source": [
    "from pyspark.ml.classification import DecisionTreeClassifier, RandomForestClassifier, GBTClassifier"
   ]
  },
  {
   "cell_type": "code",
   "execution_count": 41,
   "id": "44ae77a3",
   "metadata": {},
   "outputs": [],
   "source": [
    "from pyspark.ml import Pipeline"
   ]
  },
  {
   "cell_type": "code",
   "execution_count": 42,
   "id": "a7dded0e",
   "metadata": {},
   "outputs": [],
   "source": [
    "dtc = DecisionTreeClassifier(labelCol=\"PrivateIndex\",featuresCol='features')\n",
    "rfc= RandomForestClassifier(labelCol=\"PrivateIndex\",featuresCol='features')\n",
    "gbt = GBTClassifier(labelCol=\"PrivateIndex\",featuresCol='features')"
   ]
  },
  {
   "cell_type": "code",
   "execution_count": 43,
   "id": "4691294b",
   "metadata": {},
   "outputs": [],
   "source": [
    "dtc_model = dtc.fit(train_data)\n",
    "rfc_model = rfc.fit(train_data)\n",
    "gbt_model = gbt.fit(train_data)"
   ]
  },
  {
   "cell_type": "code",
   "execution_count": 44,
   "id": "967388fc",
   "metadata": {},
   "outputs": [],
   "source": [
    "dtc_preds = dtc_model.transform(test_data)\n",
    "rfc_preds = rfc_model.transform(test_data)\n",
    "gbt_preds = gbt_model.transform(test_data)"
   ]
  },
  {
   "cell_type": "code",
   "execution_count": 45,
   "id": "39094396",
   "metadata": {},
   "outputs": [],
   "source": [
    "from pyspark.ml.evaluation import BinaryClassificationEvaluator"
   ]
  },
  {
   "cell_type": "code",
   "execution_count": 46,
   "id": "55c1332f",
   "metadata": {},
   "outputs": [],
   "source": [
    "my_binary_eval = BinaryClassificationEvaluator(labelCol=\"PrivateIndex\")"
   ]
  },
  {
   "cell_type": "code",
   "execution_count": 47,
   "id": "9a52e173",
   "metadata": {},
   "outputs": [
    {
     "name": "stdout",
     "output_type": "stream",
     "text": [
      "DTC\n",
      "0.9141837368094351\n"
     ]
    }
   ],
   "source": [
    "print('DTC')\n",
    "print(my_binary_eval.evaluate(dtc_preds))"
   ]
  },
  {
   "cell_type": "code",
   "execution_count": 48,
   "id": "551de217",
   "metadata": {},
   "outputs": [
    {
     "name": "stdout",
     "output_type": "stream",
     "text": [
      "RFC\n",
      "0.9647217049451681\n"
     ]
    }
   ],
   "source": [
    "print('RFC')\n",
    "print(my_binary_eval.evaluate(rfc_preds))"
   ]
  },
  {
   "cell_type": "code",
   "execution_count": 50,
   "id": "17602660",
   "metadata": {},
   "outputs": [
    {
     "name": "stdout",
     "output_type": "stream",
     "text": [
      "GTB\n",
      "0.9280984895510035\n"
     ]
    }
   ],
   "source": [
    "print('GTB')\n",
    "print(my_binary_eval.evaluate(gbt_preds))"
   ]
  },
  {
   "cell_type": "code",
   "execution_count": 51,
   "id": "a22e3a8f",
   "metadata": {},
   "outputs": [],
   "source": [
    "from pyspark.ml.evaluation import MulticlassClassificationEvaluator"
   ]
  },
  {
   "cell_type": "code",
   "execution_count": 53,
   "id": "fa80c5ee",
   "metadata": {},
   "outputs": [],
   "source": [
    "acc_eval = MulticlassClassificationEvaluator(labelCol='PrivateIndex', metricName='accuracy')"
   ]
  },
  {
   "cell_type": "code",
   "execution_count": 54,
   "id": "ba48871a",
   "metadata": {},
   "outputs": [],
   "source": [
    "rfc_acc = acc_eval.evaluate(rfc_preds)"
   ]
  },
  {
   "cell_type": "code",
   "execution_count": 55,
   "id": "46cbc845",
   "metadata": {},
   "outputs": [
    {
     "data": {
      "text/plain": [
       "0.9227467811158798"
      ]
     },
     "execution_count": 55,
     "metadata": {},
     "output_type": "execute_result"
    }
   ],
   "source": [
    "rfc_acc"
   ]
  },
  {
   "cell_type": "markdown",
   "id": "217c928d",
   "metadata": {},
   "source": [
    "# Project Exercise"
   ]
  },
  {
   "cell_type": "code",
   "execution_count": 56,
   "id": "1f7e844d",
   "metadata": {},
   "outputs": [],
   "source": [
    "data = spark.read.csv('dog_food.csv', inferSchema=True,header=True)"
   ]
  },
  {
   "cell_type": "code",
   "execution_count": 57,
   "id": "df2e0dbf",
   "metadata": {},
   "outputs": [
    {
     "name": "stdout",
     "output_type": "stream",
     "text": [
      "root\n",
      " |-- A: integer (nullable = true)\n",
      " |-- B: integer (nullable = true)\n",
      " |-- C: double (nullable = true)\n",
      " |-- D: integer (nullable = true)\n",
      " |-- Spoiled: double (nullable = true)\n",
      "\n"
     ]
    }
   ],
   "source": [
    "data.printSchema()"
   ]
  },
  {
   "cell_type": "code",
   "execution_count": 62,
   "id": "50a5bbd0",
   "metadata": {},
   "outputs": [
    {
     "name": "stdout",
     "output_type": "stream",
     "text": [
      "+-------+------------------+------------------+------------------+------------------+-------------------+\n",
      "|summary|                 A|                 B|                 C|                 D|            Spoiled|\n",
      "+-------+------------------+------------------+------------------+------------------+-------------------+\n",
      "|  count|               490|               490|               490|               490|                490|\n",
      "|   mean|  5.53469387755102| 5.504081632653061| 9.126530612244897| 5.579591836734694| 0.2857142857142857|\n",
      "| stddev|2.9515204234399057|2.8537966089662063|2.0555451971054275|2.8548369309982857|0.45221563164613465|\n",
      "|    min|                 1|                 1|               5.0|                 1|                0.0|\n",
      "|    max|                10|                10|              14.0|                10|                1.0|\n",
      "+-------+------------------+------------------+------------------+------------------+-------------------+\n",
      "\n"
     ]
    }
   ],
   "source": [
    "data.describe().show()"
   ]
  },
  {
   "cell_type": "markdown",
   "id": "b6d8c1e9",
   "metadata": {},
   "source": [
    "### Data do not have any missing values"
   ]
  },
  {
   "cell_type": "code",
   "execution_count": 63,
   "id": "793056eb",
   "metadata": {},
   "outputs": [
    {
     "data": {
      "text/plain": [
       "['A', 'B', 'C', 'D', 'Spoiled']"
      ]
     },
     "execution_count": 63,
     "metadata": {},
     "output_type": "execute_result"
    }
   ],
   "source": [
    "data.columns"
   ]
  },
  {
   "cell_type": "code",
   "execution_count": 64,
   "id": "225ec2ac",
   "metadata": {},
   "outputs": [],
   "source": [
    "from pyspark.ml.feature import VectorAssembler"
   ]
  },
  {
   "cell_type": "code",
   "execution_count": 65,
   "id": "819f7df2",
   "metadata": {},
   "outputs": [],
   "source": [
    "assembler = VectorAssembler(inputCols=['A', 'B', 'C', 'D'], outputCol='features')"
   ]
  },
  {
   "cell_type": "code",
   "execution_count": 66,
   "id": "76d2cc81",
   "metadata": {},
   "outputs": [],
   "source": [
    "output = assembler.transform(data)"
   ]
  },
  {
   "cell_type": "code",
   "execution_count": 67,
   "id": "81ee1938",
   "metadata": {},
   "outputs": [
    {
     "name": "stdout",
     "output_type": "stream",
     "text": [
      "root\n",
      " |-- A: integer (nullable = true)\n",
      " |-- B: integer (nullable = true)\n",
      " |-- C: double (nullable = true)\n",
      " |-- D: integer (nullable = true)\n",
      " |-- Spoiled: double (nullable = true)\n",
      " |-- features: vector (nullable = true)\n",
      "\n"
     ]
    }
   ],
   "source": [
    "output.printSchema()"
   ]
  },
  {
   "cell_type": "code",
   "execution_count": 68,
   "id": "628a3df0",
   "metadata": {},
   "outputs": [],
   "source": [
    "final_data = output.select('features', 'Spoiled')"
   ]
  },
  {
   "cell_type": "code",
   "execution_count": 69,
   "id": "464d701f",
   "metadata": {},
   "outputs": [],
   "source": [
    "test_data, train_data = final_data.randomSplit([.7,.3])"
   ]
  },
  {
   "cell_type": "code",
   "execution_count": 70,
   "id": "65205094",
   "metadata": {},
   "outputs": [],
   "source": [
    "from pyspark.ml.classification import RandomForestClassifier"
   ]
  },
  {
   "cell_type": "code",
   "execution_count": 71,
   "id": "6c521f23",
   "metadata": {},
   "outputs": [],
   "source": [
    "rfc = RandomForestClassifier(labelCol='Spoiled', numTrees=200)"
   ]
  },
  {
   "cell_type": "code",
   "execution_count": 72,
   "id": "1a9e80c4",
   "metadata": {},
   "outputs": [],
   "source": [
    "rfc_model = rfc.fit(train_data)"
   ]
  },
  {
   "cell_type": "code",
   "execution_count": 73,
   "id": "5cdd7e33",
   "metadata": {},
   "outputs": [],
   "source": [
    "rfc_preds = rfc_model.transform(test_data)"
   ]
  },
  {
   "cell_type": "code",
   "execution_count": 80,
   "id": "e7ee7a33",
   "metadata": {},
   "outputs": [
    {
     "name": "stdout",
     "output_type": "stream",
     "text": [
      "+-------------------+-------+--------------------+--------------------+----------+\n",
      "|           features|Spoiled|       rawPrediction|         probability|prediction|\n",
      "+-------------------+-------+--------------------+--------------------+----------+\n",
      "| [1.0,1.0,10.0,8.0]|    1.0|[168.689305938834...|[0.84344652969417...|       0.0|\n",
      "| [1.0,1.0,12.0,2.0]|    1.0|[8.86056644880174...|[0.04430283224400...|       1.0|\n",
      "| [1.0,1.0,12.0,4.0]|    1.0|[9.16157916157916...|[0.04580789580789...|       1.0|\n",
      "|  [1.0,2.0,9.0,4.0]|    0.0|[193.366694663747...|[0.96683347331873...|       0.0|\n",
      "|  [1.0,3.0,8.0,5.0]|    0.0|[198.796426789530...|[0.99398213394765...|       0.0|\n",
      "|  [1.0,3.0,9.0,8.0]|    0.0|[194.931537714311...|[0.97465768857155...|       0.0|\n",
      "|  [1.0,4.0,8.0,1.0]|    0.0|[197.420991239001...|[0.98710495619500...|       0.0|\n",
      "|  [1.0,4.0,8.0,7.0]|    0.0|[198.770689417530...|[0.99385344708765...|       0.0|\n",
      "|[1.0,4.0,13.0,10.0]|    1.0|[13.3528229857343...|[0.06676411492867...|       1.0|\n",
      "|  [1.0,5.0,8.0,3.0]|    0.0|[196.788230631229...|[0.98394115315614...|       0.0|\n",
      "| [1.0,5.0,8.0,10.0]|    0.0|[193.944817441313...|[0.96972408720656...|       0.0|\n",
      "|[1.0,5.0,12.0,10.0]|    1.0|[12.3912845241959...|[0.06195642262097...|       1.0|\n",
      "|[1.0,5.0,13.0,10.0]|    1.0|[12.3912845241959...|[0.06195642262097...|       1.0|\n",
      "|  [1.0,6.0,7.0,8.0]|    0.0|[199.104247943977...|[0.99552123971988...|       0.0|\n",
      "|  [1.0,6.0,8.0,1.0]|    0.0|[196.217611579927...|[0.98108805789964...|       0.0|\n",
      "|  [1.0,6.0,8.0,9.0]|    0.0|[197.914607175389...|[0.98957303587694...|       0.0|\n",
      "|  [1.0,7.0,7.0,2.0]|    0.0|[195.221223266148...|[0.97610611633074...|       0.0|\n",
      "|  [1.0,7.0,8.0,2.0]|    0.0|[195.221223266148...|[0.97610611633074...|       0.0|\n",
      "|  [1.0,7.0,8.0,4.0]|    0.0|[195.086220427024...|[0.97543110213512...|       0.0|\n",
      "| [1.0,7.0,11.0,9.0]|    1.0|[15.9389035718149...|[0.07969451785907...|       1.0|\n",
      "+-------------------+-------+--------------------+--------------------+----------+\n",
      "only showing top 20 rows\n",
      "\n"
     ]
    }
   ],
   "source": [
    "rfc_preds.show()"
   ]
  },
  {
   "cell_type": "code",
   "execution_count": 75,
   "id": "e2b80234",
   "metadata": {},
   "outputs": [],
   "source": [
    "from pyspark.ml.evaluation import BinaryClassificationEvaluator, MulticlassClassificationEvaluator"
   ]
  },
  {
   "cell_type": "code",
   "execution_count": 76,
   "id": "29a4427e",
   "metadata": {},
   "outputs": [],
   "source": [
    "binary_eval = BinaryClassificationEvaluator(labelCol='Spoiled')"
   ]
  },
  {
   "cell_type": "code",
   "execution_count": 78,
   "id": "c94fec75",
   "metadata": {},
   "outputs": [],
   "source": [
    "binary_eval_results = binary_eval.evaluate(rfc_preds)"
   ]
  },
  {
   "cell_type": "code",
   "execution_count": 79,
   "id": "fa455bda",
   "metadata": {},
   "outputs": [
    {
     "data": {
      "text/plain": [
       "0.9953563810878066"
      ]
     },
     "execution_count": 79,
     "metadata": {},
     "output_type": "execute_result"
    }
   ],
   "source": [
    "binary_eval_results"
   ]
  },
  {
   "cell_type": "code",
   "execution_count": 81,
   "id": "5bf5d0fb",
   "metadata": {},
   "outputs": [],
   "source": [
    "multi_eval = MulticlassClassificationEvaluator(labelCol='Spoiled', metricName='accuracy')"
   ]
  },
  {
   "cell_type": "code",
   "execution_count": 82,
   "id": "9906c0fb",
   "metadata": {},
   "outputs": [],
   "source": [
    "acc_eval =  multi_eval.evaluate(rfc_preds)"
   ]
  },
  {
   "cell_type": "code",
   "execution_count": 83,
   "id": "7abab836",
   "metadata": {},
   "outputs": [
    {
     "data": {
      "text/plain": [
       "0.9787234042553191"
      ]
     },
     "execution_count": 83,
     "metadata": {},
     "output_type": "execute_result"
    }
   ],
   "source": [
    "acc_eval"
   ]
  },
  {
   "cell_type": "code",
   "execution_count": 84,
   "id": "2ded70c2",
   "metadata": {},
   "outputs": [
    {
     "data": {
      "text/plain": [
       "SparseVector(4, {0: 0.0444, 1: 0.0462, 2: 0.8682, 3: 0.0412})"
      ]
     },
     "execution_count": 84,
     "metadata": {},
     "output_type": "execute_result"
    }
   ],
   "source": [
    "rfc_model.featureImportances"
   ]
  },
  {
   "cell_type": "markdown",
   "id": "8eb27ae1",
   "metadata": {},
   "source": [
    "### we can see with feature Importance feature C is most important contribution toward spolied"
   ]
  },
  {
   "cell_type": "markdown",
   "id": "834844c8",
   "metadata": {},
   "source": [
    "Thank You!!!"
   ]
  },
  {
   "cell_type": "code",
   "execution_count": null,
   "id": "bc5d79e5",
   "metadata": {},
   "outputs": [],
   "source": []
  }
 ],
 "metadata": {
  "kernelspec": {
   "display_name": "Python 3 (ipykernel)",
   "language": "python",
   "name": "python3"
  },
  "language_info": {
   "codemirror_mode": {
    "name": "ipython",
    "version": 3
   },
   "file_extension": ".py",
   "mimetype": "text/x-python",
   "name": "python",
   "nbconvert_exporter": "python",
   "pygments_lexer": "ipython3",
   "version": "3.8.10"
  }
 },
 "nbformat": 4,
 "nbformat_minor": 5
}
